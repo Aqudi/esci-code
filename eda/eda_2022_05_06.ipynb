{
 "cells": [
  {
   "cell_type": "code",
   "execution_count": 1,
   "metadata": {},
   "outputs": [
    {
     "name": "stdout",
     "output_type": "stream",
     "text": [
      "Requirement already satisfied: numpy in /home/gjdigj145/anaconda3/envs/py38-torch/lib/python3.8/site-packages (1.21.5)\n",
      "Note: you may need to restart the kernel to use updated packages.\n",
      "Requirement already satisfied: pandas in /home/gjdigj145/anaconda3/envs/py38-torch/lib/python3.8/site-packages (1.1.5)\n",
      "Requirement already satisfied: numpy>=1.15.4 in /home/gjdigj145/anaconda3/envs/py38-torch/lib/python3.8/site-packages (from pandas) (1.21.5)\n",
      "Requirement already satisfied: pytz>=2017.2 in /home/gjdigj145/anaconda3/envs/py38-torch/lib/python3.8/site-packages (from pandas) (2022.1)\n",
      "Requirement already satisfied: python-dateutil>=2.7.3 in /home/gjdigj145/anaconda3/envs/py38-torch/lib/python3.8/site-packages (from pandas) (2.8.2)\n",
      "Requirement already satisfied: six>=1.5 in /home/gjdigj145/anaconda3/envs/py38-torch/lib/python3.8/site-packages (from python-dateutil>=2.7.3->pandas) (1.16.0)\n",
      "Note: you may need to restart the kernel to use updated packages.\n",
      "Requirement already satisfied: matplotlib==3.0.3 in /home/gjdigj145/anaconda3/envs/py38-torch/lib/python3.8/site-packages (3.0.3)\n",
      "Requirement already satisfied: kiwisolver>=1.0.1 in /home/gjdigj145/anaconda3/envs/py38-torch/lib/python3.8/site-packages (from matplotlib==3.0.3) (1.4.2)\n",
      "Requirement already satisfied: pyparsing!=2.0.4,!=2.1.2,!=2.1.6,>=2.0.1 in /home/gjdigj145/anaconda3/envs/py38-torch/lib/python3.8/site-packages (from matplotlib==3.0.3) (3.0.8)\n",
      "Requirement already satisfied: numpy>=1.10.0 in /home/gjdigj145/anaconda3/envs/py38-torch/lib/python3.8/site-packages (from matplotlib==3.0.3) (1.21.5)\n",
      "Requirement already satisfied: python-dateutil>=2.1 in /home/gjdigj145/anaconda3/envs/py38-torch/lib/python3.8/site-packages (from matplotlib==3.0.3) (2.8.2)\n",
      "Requirement already satisfied: cycler>=0.10 in /home/gjdigj145/anaconda3/envs/py38-torch/lib/python3.8/site-packages (from matplotlib==3.0.3) (0.11.0)\n",
      "Requirement already satisfied: six>=1.5 in /home/gjdigj145/anaconda3/envs/py38-torch/lib/python3.8/site-packages (from python-dateutil>=2.1->matplotlib==3.0.3) (1.16.0)\n",
      "Note: you may need to restart the kernel to use updated packages.\n",
      "Requirement already satisfied: seaborn in /home/gjdigj145/anaconda3/envs/py38-torch/lib/python3.8/site-packages (0.11.2)\n",
      "Requirement already satisfied: scipy>=1.0 in /home/gjdigj145/anaconda3/envs/py38-torch/lib/python3.8/site-packages (from seaborn) (1.8.0)\n",
      "Requirement already satisfied: pandas>=0.23 in /home/gjdigj145/anaconda3/envs/py38-torch/lib/python3.8/site-packages (from seaborn) (1.1.5)\n",
      "Requirement already satisfied: matplotlib>=2.2 in /home/gjdigj145/anaconda3/envs/py38-torch/lib/python3.8/site-packages (from seaborn) (3.0.3)\n",
      "Requirement already satisfied: numpy>=1.15 in /home/gjdigj145/anaconda3/envs/py38-torch/lib/python3.8/site-packages (from seaborn) (1.21.5)\n",
      "Requirement already satisfied: python-dateutil>=2.1 in /home/gjdigj145/anaconda3/envs/py38-torch/lib/python3.8/site-packages (from matplotlib>=2.2->seaborn) (2.8.2)\n",
      "Requirement already satisfied: pyparsing!=2.0.4,!=2.1.2,!=2.1.6,>=2.0.1 in /home/gjdigj145/anaconda3/envs/py38-torch/lib/python3.8/site-packages (from matplotlib>=2.2->seaborn) (3.0.8)\n",
      "Requirement already satisfied: kiwisolver>=1.0.1 in /home/gjdigj145/anaconda3/envs/py38-torch/lib/python3.8/site-packages (from matplotlib>=2.2->seaborn) (1.4.2)\n",
      "Requirement already satisfied: cycler>=0.10 in /home/gjdigj145/anaconda3/envs/py38-torch/lib/python3.8/site-packages (from matplotlib>=2.2->seaborn) (0.11.0)\n",
      "Requirement already satisfied: pytz>=2017.2 in /home/gjdigj145/anaconda3/envs/py38-torch/lib/python3.8/site-packages (from pandas>=0.23->seaborn) (2022.1)\n",
      "Requirement already satisfied: six>=1.5 in /home/gjdigj145/anaconda3/envs/py38-torch/lib/python3.8/site-packages (from python-dateutil>=2.1->matplotlib>=2.2->seaborn) (1.16.0)\n",
      "Note: you may need to restart the kernel to use updated packages.\n"
     ]
    }
   ],
   "source": [
    "# 데이터 분석에 필요한 패키지 설치\n",
    "%pip install numpy\n",
    "%pip install pandas\n",
    "%pip install matplotlib==3.0.3\n",
    "%pip install seaborn"
   ]
  },
  {
   "cell_type": "code",
   "execution_count": 2,
   "metadata": {},
   "outputs": [],
   "source": [
    "import pandas as pd\n",
    "import warnings\n",
    "import matplotlib.pyplot as plt\n",
    "# import seaborn as sns\n",
    "# import numpy as np\n",
    "from IPython.display import display\n",
    "\n",
    "# 경고 문구 제거\n",
    "warnings.filterwarnings('ignore')\n"
   ]
  },
  {
   "cell_type": "code",
   "execution_count": 3,
   "metadata": {},
   "outputs": [],
   "source": [
    "# Notebook내에서 그림 확인 활성화\n",
    "import os\n",
    "%matplotlib inline\n",
    "\n",
    "# 현재 디렉토리 위치 변경 (파일 읽어올 때 더 편리함)\n",
    "try:\n",
    "    os.chdir(\"../data/task2\")\n",
    "except:\n",
    "    pass\n"
   ]
  },
  {
   "cell_type": "code",
   "execution_count": 4,
   "metadata": {},
   "outputs": [],
   "source": [
    "# 한글 폰트 관련 설정\n",
    "import matplotlib.pyplot as plt\n",
    "import platform\n",
    "\n",
    "from matplotlib import font_manager, rc\n",
    "plt.rcParams['axes.unicode_minus'] = False\n",
    "font_manager._rebuild()\n",
    "\n",
    "if platform.system() == 'Darwin':  # 맥os 사용자의 경우에\n",
    "    plt.style.use('seaborn-darkgrid')\n",
    "    rc('font', family='AppleGothic')\n",
    "\n",
    "elif platform.system() == 'Windows':  # 윈도우 사용자의 경우에\n",
    "    path = 'c:/Windows/Fonts/malgun.ttf'\n",
    "    font_name = font_manager.FontProperties(fname=path).get_name()\n",
    "    # https://python-graph-gallery.com/199-matplotlib-style-sheets/\n",
    "    plt.style.use('seaborn-darkgrid')\n",
    "    rc('font', family=font_name)\n",
    "\n",
    "elif platform.system() == \"Linux\":\n",
    "    plt.style.use(\"seaborn-darkgrid\")\n",
    "    rc(\"font\", family=\"NanumGothic\")\n",
    "\n",
    "rc(\"font\", size=13)\n"
   ]
  },
  {
   "cell_type": "markdown",
   "metadata": {},
   "source": [
    "## 살펴볼 데이터\n",
    "\n",
    "- Train 데이터\n",
    "- Product Catalogue 데이터\n",
    "\n",
    "## Train 데이터\n",
    "\n",
    "query와 query 타입 esci 라벨이 있어 각 query가 exact, substitute, irrelevant, complement 중 어디에 해당하는지를 나타내고 있다.  \n",
    "Task 2, 3이 query와 esci 라벨을 매칭하는 task이기 때문에 동일한 데이터를 사용하고, label만 esci와 (substitute, not substitute)로 다르다.\n",
    "\n",
    "### 기본적인 정보 확인\n",
    "\n",
    "- 총 5개의 column으로 이루어짐 \n",
    "    - example_id\n",
    "    - query: 사용자가 입력한 검색어\n",
    "    - product_id: product_catalogue에 연결되는 상품 id\n",
    "    - query_locale: 검색어 언어\n",
    "    - esci_label: 4가지 query 타입 (exact, substitute, irrelevant, complement)\n",
    "- 결측치: 없음\n",
    "- 데이터 타입: 전부 string"
   ]
  },
  {
   "cell_type": "code",
   "execution_count": 5,
   "metadata": {},
   "outputs": [
    {
     "data": {
      "text/html": [
       "<div>\n",
       "<style scoped>\n",
       "    .dataframe tbody tr th:only-of-type {\n",
       "        vertical-align: middle;\n",
       "    }\n",
       "\n",
       "    .dataframe tbody tr th {\n",
       "        vertical-align: top;\n",
       "    }\n",
       "\n",
       "    .dataframe thead th {\n",
       "        text-align: right;\n",
       "    }\n",
       "</style>\n",
       "<table border=\"1\" class=\"dataframe\">\n",
       "  <thead>\n",
       "    <tr style=\"text-align: right;\">\n",
       "      <th></th>\n",
       "      <th>example_id</th>\n",
       "      <th>query</th>\n",
       "      <th>product_id</th>\n",
       "      <th>query_locale</th>\n",
       "      <th>esci_label</th>\n",
       "    </tr>\n",
       "  </thead>\n",
       "  <tbody>\n",
       "    <tr>\n",
       "      <th>0</th>\n",
       "      <td>0</td>\n",
       "      <td>11 degrees</td>\n",
       "      <td>B079VKKJN7</td>\n",
       "      <td>es</td>\n",
       "      <td>exact</td>\n",
       "    </tr>\n",
       "    <tr>\n",
       "      <th>1</th>\n",
       "      <td>1</td>\n",
       "      <td>11 degrees</td>\n",
       "      <td>B079Y9VRKS</td>\n",
       "      <td>es</td>\n",
       "      <td>exact</td>\n",
       "    </tr>\n",
       "    <tr>\n",
       "      <th>2</th>\n",
       "      <td>2</td>\n",
       "      <td>11 degrees</td>\n",
       "      <td>B07D2DDCZH</td>\n",
       "      <td>es</td>\n",
       "      <td>exact</td>\n",
       "    </tr>\n",
       "    <tr>\n",
       "      <th>3</th>\n",
       "      <td>3</td>\n",
       "      <td>11 degrees</td>\n",
       "      <td>B07DP4LM9H</td>\n",
       "      <td>es</td>\n",
       "      <td>exact</td>\n",
       "    </tr>\n",
       "    <tr>\n",
       "      <th>4</th>\n",
       "      <td>4</td>\n",
       "      <td>11 degrees</td>\n",
       "      <td>B07G37B9HP</td>\n",
       "      <td>es</td>\n",
       "      <td>exact</td>\n",
       "    </tr>\n",
       "  </tbody>\n",
       "</table>\n",
       "</div>"
      ],
      "text/plain": [
       "   example_id       query  product_id query_locale esci_label\n",
       "0           0  11 degrees  B079VKKJN7           es      exact\n",
       "1           1  11 degrees  B079Y9VRKS           es      exact\n",
       "2           2  11 degrees  B07D2DDCZH           es      exact\n",
       "3           3  11 degrees  B07DP4LM9H           es      exact\n",
       "4           4  11 degrees  B07G37B9HP           es      exact"
      ]
     },
     "execution_count": 5,
     "metadata": {},
     "output_type": "execute_result"
    }
   ],
   "source": [
    "df = pd.read_csv(\"train-v0.2.csv\")\n",
    "df.head()\n"
   ]
  },
  {
   "cell_type": "code",
   "execution_count": 6,
   "metadata": {},
   "outputs": [
    {
     "data": {
      "text/plain": [
       "(1834744, 5)"
      ]
     },
     "execution_count": 6,
     "metadata": {},
     "output_type": "execute_result"
    }
   ],
   "source": [
    "# 데이터 크기\n",
    "df.shape\n"
   ]
  },
  {
   "cell_type": "code",
   "execution_count": 7,
   "metadata": {},
   "outputs": [
    {
     "data": {
      "text/html": [
       "<div>\n",
       "<style scoped>\n",
       "    .dataframe tbody tr th:only-of-type {\n",
       "        vertical-align: middle;\n",
       "    }\n",
       "\n",
       "    .dataframe tbody tr th {\n",
       "        vertical-align: top;\n",
       "    }\n",
       "\n",
       "    .dataframe thead th {\n",
       "        text-align: right;\n",
       "    }\n",
       "</style>\n",
       "<table border=\"1\" class=\"dataframe\">\n",
       "  <thead>\n",
       "    <tr style=\"text-align: right;\">\n",
       "      <th></th>\n",
       "      <th>nan_count</th>\n",
       "    </tr>\n",
       "  </thead>\n",
       "  <tbody>\n",
       "    <tr>\n",
       "      <th>example_id</th>\n",
       "      <td>0</td>\n",
       "    </tr>\n",
       "    <tr>\n",
       "      <th>query</th>\n",
       "      <td>0</td>\n",
       "    </tr>\n",
       "    <tr>\n",
       "      <th>product_id</th>\n",
       "      <td>0</td>\n",
       "    </tr>\n",
       "    <tr>\n",
       "      <th>query_locale</th>\n",
       "      <td>0</td>\n",
       "    </tr>\n",
       "    <tr>\n",
       "      <th>esci_label</th>\n",
       "      <td>0</td>\n",
       "    </tr>\n",
       "  </tbody>\n",
       "</table>\n",
       "</div>"
      ],
      "text/plain": [
       "              nan_count\n",
       "example_id            0\n",
       "query                 0\n",
       "product_id            0\n",
       "query_locale          0\n",
       "esci_label            0"
      ]
     },
     "execution_count": 7,
     "metadata": {},
     "output_type": "execute_result"
    }
   ],
   "source": [
    "# 결측치 개수\n",
    "df.isnull().sum().to_frame(\"nan_count\")\n"
   ]
  },
  {
   "cell_type": "code",
   "execution_count": 8,
   "metadata": {},
   "outputs": [
    {
     "data": {
      "text/plain": [
       "example_id       int64\n",
       "query           object\n",
       "product_id      object\n",
       "query_locale    object\n",
       "esci_label      object\n",
       "dtype: object"
      ]
     },
     "execution_count": 8,
     "metadata": {},
     "output_type": "execute_result"
    }
   ],
   "source": [
    "# 데이터 타입\n",
    "df.dtypes\n"
   ]
  },
  {
   "cell_type": "markdown",
   "metadata": {},
   "source": [
    "### 데이터 샘플 확인"
   ]
  },
  {
   "cell_type": "markdown",
   "metadata": {},
   "source": [
    "#### query_locale\n",
    "\n",
    "- 언어는 us가 가장 많다.\n",
    "- query 타입은 exact, substitute, irrelevant, complement 순으로 많다.\n",
    "- 모든 언어에서 query 타입의 분포는 유사하다."
   ]
  },
  {
   "cell_type": "code",
   "execution_count": 9,
   "metadata": {},
   "outputs": [
    {
     "data": {
      "text/plain": [
       "us    1272626\n",
       "jp     312397\n",
       "es     249721\n",
       "Name: query_locale, dtype: int64"
      ]
     },
     "execution_count": 9,
     "metadata": {},
     "output_type": "execute_result"
    }
   ],
   "source": [
    "df[\"query_locale\"].value_counts()\n"
   ]
  },
  {
   "cell_type": "code",
   "execution_count": 10,
   "metadata": {},
   "outputs": [
    {
     "data": {
      "image/png": "[encoded data removed]",
      "text/plain": [
       "<Figure size 432x288 with 1 Axes>"
      ]
     },
     "metadata": {},
     "output_type": "display_data"
    }
   ],
   "source": [
    "df['query_locale'].value_counts().sort_index(ascending=True).plot(kind='bar')\n",
    "plt.xlabel('query 언어')\n",
    "plt.xticks(rotation=0)\n",
    "plt.ylabel('count')\n",
    "plt.title('언어별 query 개수')\n",
    "plt.show()\n"
   ]
  },
  {
   "cell_type": "markdown",
   "metadata": {},
   "source": [
    "#### esci_label\n",
    "\n",
    "- exact의 비율이 가장 높고, complement의 비율이 가장 낮음\n",
    "- 데이터의 불균형이 심함"
   ]
  },
  {
   "cell_type": "code",
   "execution_count": 11,
   "metadata": {},
   "outputs": [
    {
     "data": {
      "text/plain": [
       "exact         1196476\n",
       "substitute     401542\n",
       "irrelevant     183413\n",
       "complement      53313\n",
       "Name: esci_label, dtype: int64"
      ]
     },
     "execution_count": 11,
     "metadata": {},
     "output_type": "execute_result"
    }
   ],
   "source": [
    "df[\"esci_label\"].value_counts()\n"
   ]
  },
  {
   "cell_type": "code",
   "execution_count": 12,
   "metadata": {},
   "outputs": [
    {
     "data": {
      "image/png": "[encoded data removed]",
      "text/plain": [
       "<Figure size 432x288 with 1 Axes>"
      ]
     },
     "metadata": {},
     "output_type": "display_data"
    }
   ],
   "source": [
    "df['esci_label'].value_counts().sort_index(ascending=True).plot(kind='bar')\n",
    "plt.xlabel('esci_label')\n",
    "plt.xticks(rotation=0)\n",
    "plt.ylabel('count')\n",
    "plt.title('esci_label 별 query 개수')\n",
    "plt.show()\n"
   ]
  },
  {
   "cell_type": "markdown",
   "metadata": {},
   "source": [
    "- 각 언어별 esci_label 분포는 비교적 균일함"
   ]
  },
  {
   "cell_type": "code",
   "execution_count": 13,
   "metadata": {},
   "outputs": [
    {
     "data": {
      "text/html": [
       "<div>\n",
       "<style scoped>\n",
       "    .dataframe tbody tr th:only-of-type {\n",
       "        vertical-align: middle;\n",
       "    }\n",
       "\n",
       "    .dataframe tbody tr th {\n",
       "        vertical-align: top;\n",
       "    }\n",
       "\n",
       "    .dataframe thead th {\n",
       "        text-align: right;\n",
       "    }\n",
       "</style>\n",
       "<table border=\"1\" class=\"dataframe\">\n",
       "  <thead>\n",
       "    <tr style=\"text-align: right;\">\n",
       "      <th>query_locale</th>\n",
       "      <th>es</th>\n",
       "      <th>jp</th>\n",
       "      <th>us</th>\n",
       "    </tr>\n",
       "    <tr>\n",
       "      <th>esci_label</th>\n",
       "      <th></th>\n",
       "      <th></th>\n",
       "      <th></th>\n",
       "    </tr>\n",
       "  </thead>\n",
       "  <tbody>\n",
       "    <tr>\n",
       "      <th>complement</th>\n",
       "      <td>14521</td>\n",
       "      <td>10577</td>\n",
       "      <td>28215</td>\n",
       "    </tr>\n",
       "    <tr>\n",
       "      <th>exact</th>\n",
       "      <td>141537</td>\n",
       "      <td>180881</td>\n",
       "      <td>874058</td>\n",
       "    </tr>\n",
       "    <tr>\n",
       "      <th>irrelevant</th>\n",
       "      <td>30883</td>\n",
       "      <td>39912</td>\n",
       "      <td>112618</td>\n",
       "    </tr>\n",
       "    <tr>\n",
       "      <th>substitute</th>\n",
       "      <td>62780</td>\n",
       "      <td>81027</td>\n",
       "      <td>257735</td>\n",
       "    </tr>\n",
       "  </tbody>\n",
       "</table>\n",
       "</div>"
      ],
      "text/plain": [
       "query_locale      es      jp      us\n",
       "esci_label                          \n",
       "complement     14521   10577   28215\n",
       "exact         141537  180881  874058\n",
       "irrelevant     30883   39912  112618\n",
       "substitute     62780   81027  257735"
      ]
     },
     "execution_count": 13,
     "metadata": {},
     "output_type": "execute_result"
    }
   ],
   "source": [
    "grouped_df = df.groupby([\"esci_label\", \"query_locale\"])\n",
    "grouped_unstack = grouped_df.size().unstack()\n",
    "grouped_unstack\n"
   ]
  },
  {
   "cell_type": "code",
   "execution_count": 14,
   "metadata": {},
   "outputs": [
    {
     "data": {
      "text/plain": [
       "array([<matplotlib.axes._subplots.AxesSubplot object at 0x7f4326925970>,\n",
       "       <matplotlib.axes._subplots.AxesSubplot object at 0x7f43268e9e50>,\n",
       "       <matplotlib.axes._subplots.AxesSubplot object at 0x7f43268f3d30>],\n",
       "      dtype=object)"
      ]
     },
     "execution_count": 14,
     "metadata": {},
     "output_type": "execute_result"
    },
    {
     "data": {
      "image/png": "[encoded data removed]",
      "text/plain": [
       "<Figure size 360x360 with 3 Axes>"
      ]
     },
     "metadata": {},
     "output_type": "display_data"
    }
   ],
   "source": [
    "grouped_unstack.plot.bar(figsize=(5, 5), subplots=True)\n"
   ]
  },
  {
   "cell_type": "markdown",
   "metadata": {},
   "source": [
    "#### query\n",
    "\n",
    "- query는 총 91207개이고 동일한 query가 최소 8개씩 존재\n",
    "- 동일한 query여도 결과는 상이함"
   ]
  },
  {
   "cell_type": "code",
   "execution_count": 15,
   "metadata": {},
   "outputs": [
    {
     "data": {
      "text/plain": [
       "creative sound blaster g6                                 8\n",
       "ottostyle.jp キャットタワー grande 【ベージュ】 天井つっぱり棒なしタイプ 据え置き      8\n",
       "zeckos halloween wall art                                 8\n",
       "magic wand attachments                                    8\n",
       "windshield washer tablets 100 pcs                         8\n",
       "                                                       ... \n",
       "ssd                                                     176\n",
       "ipad                                                    181\n",
       "laptop                                                  193\n",
       "tv                                                      214\n",
       "airpods                                                 233\n",
       "Name: query, Length: 91207, dtype: int64"
      ]
     },
     "execution_count": 15,
     "metadata": {},
     "output_type": "execute_result"
    }
   ],
   "source": [
    "# query 예시 확인\n",
    "query_counts = df[\"query\"].value_counts().sort_values()\n",
    "query_counts\n"
   ]
  },
  {
   "cell_type": "code",
   "execution_count": 16,
   "metadata": {},
   "outputs": [
    {
     "data": {
      "text/html": [
       "<div>\n",
       "<style scoped>\n",
       "    .dataframe tbody tr th:only-of-type {\n",
       "        vertical-align: middle;\n",
       "    }\n",
       "\n",
       "    .dataframe tbody tr th {\n",
       "        vertical-align: top;\n",
       "    }\n",
       "\n",
       "    .dataframe thead th {\n",
       "        text-align: right;\n",
       "    }\n",
       "</style>\n",
       "<table border=\"1\" class=\"dataframe\">\n",
       "  <thead>\n",
       "    <tr style=\"text-align: right;\">\n",
       "      <th></th>\n",
       "      <th>example_id</th>\n",
       "      <th>query</th>\n",
       "      <th>product_id</th>\n",
       "      <th>query_locale</th>\n",
       "      <th>esci_label</th>\n",
       "    </tr>\n",
       "  </thead>\n",
       "  <tbody>\n",
       "    <tr>\n",
       "      <th>31600</th>\n",
       "      <td>31600</td>\n",
       "      <td>creative sound blaster g6</td>\n",
       "      <td>B009RPQA2G</td>\n",
       "      <td>es</td>\n",
       "      <td>substitute</td>\n",
       "    </tr>\n",
       "    <tr>\n",
       "      <th>31601</th>\n",
       "      <td>31601</td>\n",
       "      <td>creative sound blaster g6</td>\n",
       "      <td>B00A152RYG</td>\n",
       "      <td>es</td>\n",
       "      <td>substitute</td>\n",
       "    </tr>\n",
       "    <tr>\n",
       "      <th>31602</th>\n",
       "      <td>31602</td>\n",
       "      <td>creative sound blaster g6</td>\n",
       "      <td>B019QKDH86</td>\n",
       "      <td>es</td>\n",
       "      <td>substitute</td>\n",
       "    </tr>\n",
       "    <tr>\n",
       "      <th>31603</th>\n",
       "      <td>31603</td>\n",
       "      <td>creative sound blaster g6</td>\n",
       "      <td>B01EOPT0VG</td>\n",
       "      <td>es</td>\n",
       "      <td>substitute</td>\n",
       "    </tr>\n",
       "    <tr>\n",
       "      <th>31604</th>\n",
       "      <td>31604</td>\n",
       "      <td>creative sound blaster g6</td>\n",
       "      <td>B01N5FV9PC</td>\n",
       "      <td>es</td>\n",
       "      <td>substitute</td>\n",
       "    </tr>\n",
       "    <tr>\n",
       "      <th>31605</th>\n",
       "      <td>31605</td>\n",
       "      <td>creative sound blaster g6</td>\n",
       "      <td>B073HT4GM4</td>\n",
       "      <td>es</td>\n",
       "      <td>substitute</td>\n",
       "    </tr>\n",
       "    <tr>\n",
       "      <th>31606</th>\n",
       "      <td>31606</td>\n",
       "      <td>creative sound blaster g6</td>\n",
       "      <td>B07FY45F2S</td>\n",
       "      <td>es</td>\n",
       "      <td>exact</td>\n",
       "    </tr>\n",
       "    <tr>\n",
       "      <th>31607</th>\n",
       "      <td>31607</td>\n",
       "      <td>creative sound blaster g6</td>\n",
       "      <td>B07NLRC3PN</td>\n",
       "      <td>es</td>\n",
       "      <td>exact</td>\n",
       "    </tr>\n",
       "  </tbody>\n",
       "</table>\n",
       "</div>"
      ],
      "text/plain": [
       "       example_id                      query  product_id query_locale  \\\n",
       "31600       31600  creative sound blaster g6  B009RPQA2G           es   \n",
       "31601       31601  creative sound blaster g6  B00A152RYG           es   \n",
       "31602       31602  creative sound blaster g6  B019QKDH86           es   \n",
       "31603       31603  creative sound blaster g6  B01EOPT0VG           es   \n",
       "31604       31604  creative sound blaster g6  B01N5FV9PC           es   \n",
       "31605       31605  creative sound blaster g6  B073HT4GM4           es   \n",
       "31606       31606  creative sound blaster g6  B07FY45F2S           es   \n",
       "31607       31607  creative sound blaster g6  B07NLRC3PN           es   \n",
       "\n",
       "       esci_label  \n",
       "31600  substitute  \n",
       "31601  substitute  \n",
       "31602  substitute  \n",
       "31603  substitute  \n",
       "31604  substitute  \n",
       "31605  substitute  \n",
       "31606       exact  \n",
       "31607       exact  "
      ]
     },
     "metadata": {},
     "output_type": "display_data"
    },
    {
     "data": {
      "text/html": [
       "<div>\n",
       "<style scoped>\n",
       "    .dataframe tbody tr th:only-of-type {\n",
       "        vertical-align: middle;\n",
       "    }\n",
       "\n",
       "    .dataframe tbody tr th {\n",
       "        vertical-align: top;\n",
       "    }\n",
       "\n",
       "    .dataframe thead th {\n",
       "        text-align: right;\n",
       "    }\n",
       "</style>\n",
       "<table border=\"1\" class=\"dataframe\">\n",
       "  <thead>\n",
       "    <tr style=\"text-align: right;\">\n",
       "      <th></th>\n",
       "      <th>example_id</th>\n",
       "      <th>query</th>\n",
       "      <th>product_id</th>\n",
       "      <th>query_locale</th>\n",
       "      <th>esci_label</th>\n",
       "    </tr>\n",
       "  </thead>\n",
       "  <tbody>\n",
       "    <tr>\n",
       "      <th>1790241</th>\n",
       "      <td>1790241</td>\n",
       "      <td>ottostyle.jp キャットタワー grande 【ベージュ】 天井つっぱり棒なしタイ...</td>\n",
       "      <td>B00V7KHFD2</td>\n",
       "      <td>jp</td>\n",
       "      <td>exact</td>\n",
       "    </tr>\n",
       "    <tr>\n",
       "      <th>1790242</th>\n",
       "      <td>1790242</td>\n",
       "      <td>ottostyle.jp キャットタワー grande 【ベージュ】 天井つっぱり棒なしタイ...</td>\n",
       "      <td>B073W7GS15</td>\n",
       "      <td>jp</td>\n",
       "      <td>complement</td>\n",
       "    </tr>\n",
       "    <tr>\n",
       "      <th>1790243</th>\n",
       "      <td>1790243</td>\n",
       "      <td>ottostyle.jp キャットタワー grande 【ベージュ】 天井つっぱり棒なしタイ...</td>\n",
       "      <td>B073W815ZJ</td>\n",
       "      <td>jp</td>\n",
       "      <td>substitute</td>\n",
       "    </tr>\n",
       "    <tr>\n",
       "      <th>1790244</th>\n",
       "      <td>1790244</td>\n",
       "      <td>ottostyle.jp キャットタワー grande 【ベージュ】 天井つっぱり棒なしタイ...</td>\n",
       "      <td>B074WMW227</td>\n",
       "      <td>jp</td>\n",
       "      <td>exact</td>\n",
       "    </tr>\n",
       "    <tr>\n",
       "      <th>1790245</th>\n",
       "      <td>1790245</td>\n",
       "      <td>ottostyle.jp キャットタワー grande 【ベージュ】 天井つっぱり棒なしタイ...</td>\n",
       "      <td>B077HPW7LG</td>\n",
       "      <td>jp</td>\n",
       "      <td>substitute</td>\n",
       "    </tr>\n",
       "    <tr>\n",
       "      <th>1790246</th>\n",
       "      <td>1790246</td>\n",
       "      <td>ottostyle.jp キャットタワー grande 【ベージュ】 天井つっぱり棒なしタイ...</td>\n",
       "      <td>B07N63DB22</td>\n",
       "      <td>jp</td>\n",
       "      <td>substitute</td>\n",
       "    </tr>\n",
       "    <tr>\n",
       "      <th>1790247</th>\n",
       "      <td>1790247</td>\n",
       "      <td>ottostyle.jp キャットタワー grande 【ベージュ】 天井つっぱり棒なしタイ...</td>\n",
       "      <td>B083YVVCX8</td>\n",
       "      <td>jp</td>\n",
       "      <td>exact</td>\n",
       "    </tr>\n",
       "    <tr>\n",
       "      <th>1790248</th>\n",
       "      <td>1790248</td>\n",
       "      <td>ottostyle.jp キャットタワー grande 【ベージュ】 天井つっぱり棒なしタイ...</td>\n",
       "      <td>B085G1G7T5</td>\n",
       "      <td>jp</td>\n",
       "      <td>exact</td>\n",
       "    </tr>\n",
       "  </tbody>\n",
       "</table>\n",
       "</div>"
      ],
      "text/plain": [
       "         example_id                                              query  \\\n",
       "1790241     1790241  ottostyle.jp キャットタワー grande 【ベージュ】 天井つっぱり棒なしタイ...   \n",
       "1790242     1790242  ottostyle.jp キャットタワー grande 【ベージュ】 天井つっぱり棒なしタイ...   \n",
       "1790243     1790243  ottostyle.jp キャットタワー grande 【ベージュ】 天井つっぱり棒なしタイ...   \n",
       "1790244     1790244  ottostyle.jp キャットタワー grande 【ベージュ】 天井つっぱり棒なしタイ...   \n",
       "1790245     1790245  ottostyle.jp キャットタワー grande 【ベージュ】 天井つっぱり棒なしタイ...   \n",
       "1790246     1790246  ottostyle.jp キャットタワー grande 【ベージュ】 天井つっぱり棒なしタイ...   \n",
       "1790247     1790247  ottostyle.jp キャットタワー grande 【ベージュ】 天井つっぱり棒なしタイ...   \n",
       "1790248     1790248  ottostyle.jp キャットタワー grande 【ベージュ】 天井つっぱり棒なしタイ...   \n",
       "\n",
       "         product_id query_locale  esci_label  \n",
       "1790241  B00V7KHFD2           jp       exact  \n",
       "1790242  B073W7GS15           jp  complement  \n",
       "1790243  B073W815ZJ           jp  substitute  \n",
       "1790244  B074WMW227           jp       exact  \n",
       "1790245  B077HPW7LG           jp  substitute  \n",
       "1790246  B07N63DB22           jp  substitute  \n",
       "1790247  B083YVVCX8           jp       exact  \n",
       "1790248  B085G1G7T5           jp       exact  "
      ]
     },
     "metadata": {},
     "output_type": "display_data"
    }
   ],
   "source": [
    "display(df.loc[df[\"query\"] == query_counts.keys()[0]])\n",
    "display(df.loc[df[\"query\"] == query_counts.keys()[1]])"
   ]
  },
  {
   "cell_type": "markdown",
   "metadata": {},
   "source": [
    "- query를 space 기준으로 분리했을 때 길이가 3인 query 들이 가장 많았고, 최대 길이는 29 였음"
   ]
  },
  {
   "cell_type": "code",
   "execution_count": 17,
   "metadata": {},
   "outputs": [],
   "source": [
    "df[\"query_tokens\"] = df[\"query\"].apply(lambda e: e.split())\n",
    "df[\"query_token_lengths\"] = df[\"query_tokens\"].apply(lambda e: len(e))\n",
    "sorted_by_query_token_lengths = df.sort_values(by=[\"query_token_lengths\"])\n"
   ]
  },
  {
   "cell_type": "code",
   "execution_count": 18,
   "metadata": {},
   "outputs": [
    {
     "data": {
      "text/html": [
       "<div>\n",
       "<style scoped>\n",
       "    .dataframe tbody tr th:only-of-type {\n",
       "        vertical-align: middle;\n",
       "    }\n",
       "\n",
       "    .dataframe tbody tr th {\n",
       "        vertical-align: top;\n",
       "    }\n",
       "\n",
       "    .dataframe thead th {\n",
       "        text-align: right;\n",
       "    }\n",
       "</style>\n",
       "<table border=\"1\" class=\"dataframe\">\n",
       "  <thead>\n",
       "    <tr style=\"text-align: right;\">\n",
       "      <th></th>\n",
       "      <th>example_id</th>\n",
       "      <th>query</th>\n",
       "      <th>product_id</th>\n",
       "      <th>query_locale</th>\n",
       "      <th>esci_label</th>\n",
       "      <th>query_tokens</th>\n",
       "      <th>query_token_lengths</th>\n",
       "    </tr>\n",
       "  </thead>\n",
       "  <tbody>\n",
       "    <tr>\n",
       "      <th>917371</th>\n",
       "      <td>917371</td>\n",
       "      <td>mz-v7p512bw</td>\n",
       "      <td>B07K1LWPVR</td>\n",
       "      <td>us</td>\n",
       "      <td>substitute</td>\n",
       "      <td>[mz-v7p512bw]</td>\n",
       "      <td>1</td>\n",
       "    </tr>\n",
       "    <tr>\n",
       "      <th>1532088</th>\n",
       "      <td>1532088</td>\n",
       "      <td>fucoidan</td>\n",
       "      <td>B081GBV8Q8</td>\n",
       "      <td>jp</td>\n",
       "      <td>exact</td>\n",
       "      <td>[fucoidan]</td>\n",
       "      <td>1</td>\n",
       "    </tr>\n",
       "    <tr>\n",
       "      <th>1532087</th>\n",
       "      <td>1532087</td>\n",
       "      <td>fucoidan</td>\n",
       "      <td>B07TD1VW9G</td>\n",
       "      <td>jp</td>\n",
       "      <td>exact</td>\n",
       "      <td>[fucoidan]</td>\n",
       "      <td>1</td>\n",
       "    </tr>\n",
       "  </tbody>\n",
       "</table>\n",
       "</div>"
      ],
      "text/plain": [
       "         example_id        query  product_id query_locale  esci_label  \\\n",
       "917371       917371  mz-v7p512bw  B07K1LWPVR           us  substitute   \n",
       "1532088     1532088     fucoidan  B081GBV8Q8           jp       exact   \n",
       "1532087     1532087     fucoidan  B07TD1VW9G           jp       exact   \n",
       "\n",
       "          query_tokens  query_token_lengths  \n",
       "917371   [mz-v7p512bw]                    1  \n",
       "1532088     [fucoidan]                    1  \n",
       "1532087     [fucoidan]                    1  "
      ]
     },
     "execution_count": 18,
     "metadata": {},
     "output_type": "execute_result"
    }
   ],
   "source": [
    "sorted_by_query_token_lengths.head(3)"
   ]
  },
  {
   "cell_type": "code",
   "execution_count": 19,
   "metadata": {},
   "outputs": [
    {
     "data": {
      "text/html": [
       "<div>\n",
       "<style scoped>\n",
       "    .dataframe tbody tr th:only-of-type {\n",
       "        vertical-align: middle;\n",
       "    }\n",
       "\n",
       "    .dataframe tbody tr th {\n",
       "        vertical-align: top;\n",
       "    }\n",
       "\n",
       "    .dataframe thead th {\n",
       "        text-align: right;\n",
       "    }\n",
       "</style>\n",
       "<table border=\"1\" class=\"dataframe\">\n",
       "  <thead>\n",
       "    <tr style=\"text-align: right;\">\n",
       "      <th></th>\n",
       "      <th>example_id</th>\n",
       "      <th>query</th>\n",
       "      <th>product_id</th>\n",
       "      <th>query_locale</th>\n",
       "      <th>esci_label</th>\n",
       "      <th>query_tokens</th>\n",
       "      <th>query_token_lengths</th>\n",
       "    </tr>\n",
       "  </thead>\n",
       "  <tbody>\n",
       "    <tr>\n",
       "      <th>1434791</th>\n",
       "      <td>1434791</td>\n",
       "      <td>Something versatile. Like a plain black puff c...</td>\n",
       "      <td>B000NCZU0A</td>\n",
       "      <td>us</td>\n",
       "      <td>irrelevant</td>\n",
       "      <td>[Something, versatile., Like, a, plain, black,...</td>\n",
       "      <td>29</td>\n",
       "    </tr>\n",
       "    <tr>\n",
       "      <th>1434782</th>\n",
       "      <td>1434782</td>\n",
       "      <td>My new laptop would be silver, have the best s...</td>\n",
       "      <td>B011O00VM6</td>\n",
       "      <td>us</td>\n",
       "      <td>irrelevant</td>\n",
       "      <td>[My, new, laptop, would, be, silver,, have, th...</td>\n",
       "      <td>29</td>\n",
       "    </tr>\n",
       "    <tr>\n",
       "      <th>1434785</th>\n",
       "      <td>1434785</td>\n",
       "      <td>My new laptop would be silver, have the best s...</td>\n",
       "      <td>B01JHD9FIS</td>\n",
       "      <td>us</td>\n",
       "      <td>irrelevant</td>\n",
       "      <td>[My, new, laptop, would, be, silver,, have, th...</td>\n",
       "      <td>29</td>\n",
       "    </tr>\n",
       "  </tbody>\n",
       "</table>\n",
       "</div>"
      ],
      "text/plain": [
       "         example_id                                              query  \\\n",
       "1434791     1434791  Something versatile. Like a plain black puff c...   \n",
       "1434782     1434782  My new laptop would be silver, have the best s...   \n",
       "1434785     1434785  My new laptop would be silver, have the best s...   \n",
       "\n",
       "         product_id query_locale  esci_label  \\\n",
       "1434791  B000NCZU0A           us  irrelevant   \n",
       "1434782  B011O00VM6           us  irrelevant   \n",
       "1434785  B01JHD9FIS           us  irrelevant   \n",
       "\n",
       "                                              query_tokens  \\\n",
       "1434791  [Something, versatile., Like, a, plain, black,...   \n",
       "1434782  [My, new, laptop, would, be, silver,, have, th...   \n",
       "1434785  [My, new, laptop, would, be, silver,, have, th...   \n",
       "\n",
       "         query_token_lengths  \n",
       "1434791                   29  \n",
       "1434782                   29  \n",
       "1434785                   29  "
      ]
     },
     "execution_count": 19,
     "metadata": {},
     "output_type": "execute_result"
    }
   ],
   "source": [
    "sorted_by_query_token_lengths.tail(3)"
   ]
  },
  {
   "cell_type": "markdown",
   "metadata": {},
   "source": [
    "- 언어별 query 길이 비교\n",
    "    - es: 최대 12\n",
    "    - jp: 최대 13 (일본어의 경우에는 띄어쓰기를 하지 않아도 된다고 하여 크게 의미가 없을 것 같다.)\n",
    "    - us: 최대 29"
   ]
  },
  {
   "cell_type": "code",
   "execution_count": 20,
   "metadata": {},
   "outputs": [
    {
     "data": {
      "image/png": "[encoded data removed]",
      "text/plain": [
       "<Figure size 1800x360 with 3 Axes>"
      ]
     },
     "metadata": {},
     "output_type": "display_data"
    }
   ],
   "source": [
    "grouped_query_tokens = df.groupby([\"query_locale\"])\n",
    "\n",
    "fig, axes = plt.subplots(figsize=(25, 5), nrows=1,\n",
    "                         ncols=len(grouped_query_tokens.groups.keys()))\n",
    "\n",
    "for key, ax in zip(grouped_query_tokens.groups.keys(), axes.flatten()):\n",
    "    lang_group = grouped_query_tokens.get_group(key)\n",
    "    length_group = lang_group.groupby(\"query_token_lengths\").size()\n",
    "    length_group.plot(ax=ax, kind=\"bar\", logy=True)\n",
    "    ax.set_title(key)\n"
   ]
  },
  {
   "cell_type": "markdown",
   "metadata": {},
   "source": [
    "## Product Catalogue 데이터\n",
    "### 기본적인 정보 확인\n",
    "\n"
   ]
  },
  {
   "cell_type": "code",
   "execution_count": 21,
   "metadata": {},
   "outputs": [
    {
     "data": {
      "text/html": [
       "<div>\n",
       "<style scoped>\n",
       "    .dataframe tbody tr th:only-of-type {\n",
       "        vertical-align: middle;\n",
       "    }\n",
       "\n",
       "    .dataframe tbody tr th {\n",
       "        vertical-align: top;\n",
       "    }\n",
       "\n",
       "    .dataframe thead th {\n",
       "        text-align: right;\n",
       "    }\n",
       "</style>\n",
       "<table border=\"1\" class=\"dataframe\">\n",
       "  <thead>\n",
       "    <tr style=\"text-align: right;\">\n",
       "      <th></th>\n",
       "      <th>product_id</th>\n",
       "      <th>product_title</th>\n",
       "      <th>product_description</th>\n",
       "      <th>product_bullet_point</th>\n",
       "      <th>product_brand</th>\n",
       "      <th>product_color_name</th>\n",
       "      <th>product_locale</th>\n",
       "    </tr>\n",
       "  </thead>\n",
       "  <tbody>\n",
       "    <tr>\n",
       "      <th>0</th>\n",
       "      <td>B079VKKJN7</td>\n",
       "      <td>11 Degrees de los Hombres Playera con Logo, Ne...</td>\n",
       "      <td>Esta playera con el logo de la marca Carrier d...</td>\n",
       "      <td>11 Degrees Negro Playera con logo\\nA estrenar ...</td>\n",
       "      <td>11 Degrees</td>\n",
       "      <td>Negro</td>\n",
       "      <td>es</td>\n",
       "    </tr>\n",
       "    <tr>\n",
       "      <th>1</th>\n",
       "      <td>B079Y9VRKS</td>\n",
       "      <td>Camiseta Eleven Degrees Core TS White (M)</td>\n",
       "      <td>NaN</td>\n",
       "      <td>NaN</td>\n",
       "      <td>11 Degrees</td>\n",
       "      <td>Blanco</td>\n",
       "      <td>es</td>\n",
       "    </tr>\n",
       "    <tr>\n",
       "      <th>2</th>\n",
       "      <td>B07DP4LM9H</td>\n",
       "      <td>11 Degrees de los Hombres Core Pull Over Hoodi...</td>\n",
       "      <td>La sudadera con capucha Core Pull Over de 11 G...</td>\n",
       "      <td>11 Degrees Azul Core Pull Over Hoodie\\nA estre...</td>\n",
       "      <td>11 Degrees</td>\n",
       "      <td>Azul</td>\n",
       "      <td>es</td>\n",
       "    </tr>\n",
       "    <tr>\n",
       "      <th>3</th>\n",
       "      <td>B07G37B9HP</td>\n",
       "      <td>11 Degrees Poli Panel Track Pant XL Black</td>\n",
       "      <td>NaN</td>\n",
       "      <td>NaN</td>\n",
       "      <td>11 Degrees</td>\n",
       "      <td>NaN</td>\n",
       "      <td>es</td>\n",
       "    </tr>\n",
       "    <tr>\n",
       "      <th>4</th>\n",
       "      <td>B07LCTGDHY</td>\n",
       "      <td>11 Degrees Gorra Trucker Negro OSFA (Talla úni...</td>\n",
       "      <td>NaN</td>\n",
       "      <td>NaN</td>\n",
       "      <td>11 Degrees</td>\n",
       "      <td>Negro (</td>\n",
       "      <td>es</td>\n",
       "    </tr>\n",
       "  </tbody>\n",
       "</table>\n",
       "</div>"
      ],
      "text/plain": [
       "   product_id                                      product_title  \\\n",
       "0  B079VKKJN7  11 Degrees de los Hombres Playera con Logo, Ne...   \n",
       "1  B079Y9VRKS          Camiseta Eleven Degrees Core TS White (M)   \n",
       "2  B07DP4LM9H  11 Degrees de los Hombres Core Pull Over Hoodi...   \n",
       "3  B07G37B9HP          11 Degrees Poli Panel Track Pant XL Black   \n",
       "4  B07LCTGDHY  11 Degrees Gorra Trucker Negro OSFA (Talla úni...   \n",
       "\n",
       "                                 product_description  \\\n",
       "0  Esta playera con el logo de la marca Carrier d...   \n",
       "1                                                NaN   \n",
       "2  La sudadera con capucha Core Pull Over de 11 G...   \n",
       "3                                                NaN   \n",
       "4                                                NaN   \n",
       "\n",
       "                                product_bullet_point product_brand  \\\n",
       "0  11 Degrees Negro Playera con logo\\nA estrenar ...    11 Degrees   \n",
       "1                                                NaN    11 Degrees   \n",
       "2  11 Degrees Azul Core Pull Over Hoodie\\nA estre...    11 Degrees   \n",
       "3                                                NaN    11 Degrees   \n",
       "4                                                NaN    11 Degrees   \n",
       "\n",
       "  product_color_name product_locale  \n",
       "0              Negro             es  \n",
       "1             Blanco             es  \n",
       "2               Azul             es  \n",
       "3                NaN             es  \n",
       "4            Negro (             es  "
      ]
     },
     "execution_count": 21,
     "metadata": {},
     "output_type": "execute_result"
    }
   ],
   "source": [
    "product_df = pd.read_csv(\"product_catalogue-v0.2.csv\")\n",
    "product_df.head()\n"
   ]
  },
  {
   "cell_type": "code",
   "execution_count": 22,
   "metadata": {},
   "outputs": [
    {
     "data": {
      "text/html": [
       "<div>\n",
       "<style scoped>\n",
       "    .dataframe tbody tr th:only-of-type {\n",
       "        vertical-align: middle;\n",
       "    }\n",
       "\n",
       "    .dataframe tbody tr th {\n",
       "        vertical-align: top;\n",
       "    }\n",
       "\n",
       "    .dataframe thead th {\n",
       "        text-align: right;\n",
       "    }\n",
       "</style>\n",
       "<table border=\"1\" class=\"dataframe\">\n",
       "  <thead>\n",
       "    <tr style=\"text-align: right;\">\n",
       "      <th></th>\n",
       "      <th>product_id</th>\n",
       "      <th>product_title</th>\n",
       "      <th>product_description</th>\n",
       "      <th>product_bullet_point</th>\n",
       "      <th>product_brand</th>\n",
       "      <th>product_color_name</th>\n",
       "      <th>product_locale</th>\n",
       "    </tr>\n",
       "  </thead>\n",
       "  <tbody>\n",
       "    <tr>\n",
       "      <th>933996</th>\n",
       "      <td>B06WVHDWVR</td>\n",
       "      <td>(エイトトウキョウ)eight tokyo サングラス スタイリッシュ スクエア メンズ レ...</td>\n",
       "      <td>【おすすめＰＯＩＮＴ】&lt;br&gt; ■紫外線カット率99パーセント以上。あなたの目と肌をお守りし...</td>\n",
       "      <td>eight tokyoは株式会社エイトの商標登録アイウェアブランドです。紫外線（ＵＶ）カット...</td>\n",
       "      <td>eight tokyo(エイトトウキョウ)</td>\n",
       "      <td>ブラック/ライトブルー</td>\n",
       "      <td>jp</td>\n",
       "    </tr>\n",
       "    <tr>\n",
       "      <th>933997</th>\n",
       "      <td>B06X17FJN7</td>\n",
       "      <td>What Say カラーレンズ ミラーレンズ サングラス クリアレンズ 伊達メガネ 全17色...</td>\n",
       "      <td>ソフト ＆ ハード ケース はランダムとなります。&lt;br&gt; また、弊社都合により 付属品 メ...</td>\n",
       "      <td>【 セット内容 】 ： オリジナルバンブーメガネケース・マイクロファイバークロスケース・商品...</td>\n",
       "      <td>What Say</td>\n",
       "      <td>ライト ブルー/ブラック</td>\n",
       "      <td>jp</td>\n",
       "    </tr>\n",
       "    <tr>\n",
       "      <th>933998</th>\n",
       "      <td>B071KNF11Z</td>\n",
       "      <td>アジアンサイズ 最適装着感 偏光レンズ 完全紫外線カット オリジナル スポーツサングラス PB15</td>\n",
       "      <td>&lt;p&gt;１、最適着用感：アジアンサイズよりフレーム形状を微調整、テンプルを長くまるく、かこまれ...</td>\n",
       "      <td>最適着用感：アジアンサイズよりフレーム形状を微調整、テンプルを長くまるく、かこまれた安定ホー...</td>\n",
       "      <td>SHD-PB</td>\n",
       "      <td>PB15</td>\n",
       "      <td>jp</td>\n",
       "    </tr>\n",
       "  </tbody>\n",
       "</table>\n",
       "</div>"
      ],
      "text/plain": [
       "        product_id                                      product_title  \\\n",
       "933996  B06WVHDWVR  (エイトトウキョウ)eight tokyo サングラス スタイリッシュ スクエア メンズ レ...   \n",
       "933997  B06X17FJN7  What Say カラーレンズ ミラーレンズ サングラス クリアレンズ 伊達メガネ 全17色...   \n",
       "933998  B071KNF11Z  アジアンサイズ 最適装着感 偏光レンズ 完全紫外線カット オリジナル スポーツサングラス PB15   \n",
       "\n",
       "                                      product_description  \\\n",
       "933996  【おすすめＰＯＩＮＴ】<br> ■紫外線カット率99パーセント以上。あなたの目と肌をお守りし...   \n",
       "933997  ソフト ＆ ハード ケース はランダムとなります。<br> また、弊社都合により 付属品 メ...   \n",
       "933998  <p>１、最適着用感：アジアンサイズよりフレーム形状を微調整、テンプルを長くまるく、かこまれ...   \n",
       "\n",
       "                                     product_bullet_point  \\\n",
       "933996  eight tokyoは株式会社エイトの商標登録アイウェアブランドです。紫外線（ＵＶ）カット...   \n",
       "933997  【 セット内容 】 ： オリジナルバンブーメガネケース・マイクロファイバークロスケース・商品...   \n",
       "933998  最適着用感：アジアンサイズよりフレーム形状を微調整、テンプルを長くまるく、かこまれた安定ホー...   \n",
       "\n",
       "                product_brand product_color_name product_locale  \n",
       "933996  eight tokyo(エイトトウキョウ)        ブラック/ライトブルー             jp  \n",
       "933997               What Say       ライト ブルー/ブラック             jp  \n",
       "933998                 SHD-PB               PB15             jp  "
      ]
     },
     "execution_count": 22,
     "metadata": {},
     "output_type": "execute_result"
    }
   ],
   "source": [
    "product_df[product_df[\"product_locale\"] == \"jp\"].head(3)"
   ]
  },
  {
   "cell_type": "code",
   "execution_count": 23,
   "metadata": {},
   "outputs": [
    {
     "data": {
      "text/plain": [
       "(1815216, 7)"
      ]
     },
     "execution_count": 23,
     "metadata": {},
     "output_type": "execute_result"
    }
   ],
   "source": [
    "# 데이터 크기\n",
    "product_df.shape\n"
   ]
  },
  {
   "cell_type": "code",
   "execution_count": 24,
   "metadata": {},
   "outputs": [
    {
     "data": {
      "text/html": [
       "<div>\n",
       "<style scoped>\n",
       "    .dataframe tbody tr th:only-of-type {\n",
       "        vertical-align: middle;\n",
       "    }\n",
       "\n",
       "    .dataframe tbody tr th {\n",
       "        vertical-align: top;\n",
       "    }\n",
       "\n",
       "    .dataframe thead th {\n",
       "        text-align: right;\n",
       "    }\n",
       "</style>\n",
       "<table border=\"1\" class=\"dataframe\">\n",
       "  <thead>\n",
       "    <tr style=\"text-align: right;\">\n",
       "      <th></th>\n",
       "      <th>product_id</th>\n",
       "      <th>product_title</th>\n",
       "      <th>product_description</th>\n",
       "      <th>product_bullet_point</th>\n",
       "      <th>product_brand</th>\n",
       "      <th>product_color_name</th>\n",
       "      <th>product_locale</th>\n",
       "    </tr>\n",
       "  </thead>\n",
       "  <tbody>\n",
       "    <tr>\n",
       "      <th>count</th>\n",
       "      <td>1815216</td>\n",
       "      <td>1814924</td>\n",
       "      <td>937139</td>\n",
       "      <td>1510821</td>\n",
       "      <td>1672228</td>\n",
       "      <td>1123949</td>\n",
       "      <td>1815216</td>\n",
       "    </tr>\n",
       "    <tr>\n",
       "      <th>unique</th>\n",
       "      <td>1803063</td>\n",
       "      <td>1782254</td>\n",
       "      <td>795475</td>\n",
       "      <td>1277908</td>\n",
       "      <td>305167</td>\n",
       "      <td>253187</td>\n",
       "      <td>3</td>\n",
       "    </tr>\n",
       "    <tr>\n",
       "      <th>top</th>\n",
       "      <td>B00J59LEBG</td>\n",
       "      <td>Episode 1</td>\n",
       "      <td>1</td>\n",
       "      <td>Used Book in Good Condition</td>\n",
       "      <td>Nike</td>\n",
       "      <td>Black</td>\n",
       "      <td>us</td>\n",
       "    </tr>\n",
       "    <tr>\n",
       "      <th>freq</th>\n",
       "      <td>3</td>\n",
       "      <td>152</td>\n",
       "      <td>1683</td>\n",
       "      <td>2826</td>\n",
       "      <td>6160</td>\n",
       "      <td>128344</td>\n",
       "      <td>1216070</td>\n",
       "    </tr>\n",
       "  </tbody>\n",
       "</table>\n",
       "</div>"
      ],
      "text/plain": [
       "        product_id product_title product_description  \\\n",
       "count      1815216       1814924              937139   \n",
       "unique     1803063       1782254              795475   \n",
       "top     B00J59LEBG     Episode 1                   1   \n",
       "freq             3           152                1683   \n",
       "\n",
       "               product_bullet_point product_brand product_color_name  \\\n",
       "count                       1510821       1672228            1123949   \n",
       "unique                      1277908        305167             253187   \n",
       "top     Used Book in Good Condition          Nike              Black   \n",
       "freq                           2826          6160             128344   \n",
       "\n",
       "       product_locale  \n",
       "count         1815216  \n",
       "unique              3  \n",
       "top                us  \n",
       "freq          1216070  "
      ]
     },
     "execution_count": 24,
     "metadata": {},
     "output_type": "execute_result"
    }
   ],
   "source": [
    "# 데이터 통계량\n",
    "product_df.describe()\n"
   ]
  },
  {
   "cell_type": "code",
   "execution_count": 70,
   "metadata": {},
   "outputs": [
    {
     "data": {
      "text/html": [
       "<div>\n",
       "<style scoped>\n",
       "    .dataframe tbody tr th:only-of-type {\n",
       "        vertical-align: middle;\n",
       "    }\n",
       "\n",
       "    .dataframe tbody tr th {\n",
       "        vertical-align: top;\n",
       "    }\n",
       "\n",
       "    .dataframe thead th {\n",
       "        text-align: right;\n",
       "    }\n",
       "</style>\n",
       "<table border=\"1\" class=\"dataframe\">\n",
       "  <thead>\n",
       "    <tr style=\"text-align: right;\">\n",
       "      <th></th>\n",
       "      <th>nan_count</th>\n",
       "    </tr>\n",
       "  </thead>\n",
       "  <tbody>\n",
       "    <tr>\n",
       "      <th>product_id</th>\n",
       "      <td>0</td>\n",
       "    </tr>\n",
       "    <tr>\n",
       "      <th>product_title</th>\n",
       "      <td>292</td>\n",
       "    </tr>\n",
       "    <tr>\n",
       "      <th>product_description</th>\n",
       "      <td>878077</td>\n",
       "    </tr>\n",
       "    <tr>\n",
       "      <th>product_bullet_point</th>\n",
       "      <td>304395</td>\n",
       "    </tr>\n",
       "    <tr>\n",
       "      <th>product_brand</th>\n",
       "      <td>142988</td>\n",
       "    </tr>\n",
       "    <tr>\n",
       "      <th>product_color_name</th>\n",
       "      <td>691267</td>\n",
       "    </tr>\n",
       "    <tr>\n",
       "      <th>product_locale</th>\n",
       "      <td>0</td>\n",
       "    </tr>\n",
       "  </tbody>\n",
       "</table>\n",
       "</div>"
      ],
      "text/plain": [
       "                      nan_count\n",
       "product_id                    0\n",
       "product_title               292\n",
       "product_description      878077\n",
       "product_bullet_point     304395\n",
       "product_brand            142988\n",
       "product_color_name       691267\n",
       "product_locale                0"
      ]
     },
     "execution_count": 70,
     "metadata": {},
     "output_type": "execute_result"
    }
   ],
   "source": [
    "# 결측치 개수\n",
    "product_df.isnull().sum().to_frame(\"nan_count\")\n"
   ]
  },
  {
   "cell_type": "code",
   "execution_count": null,
   "metadata": {},
   "outputs": [
    {
     "data": {
      "text/html": [
       "<div>\n",
       "<style scoped>\n",
       "    .dataframe tbody tr th:only-of-type {\n",
       "        vertical-align: middle;\n",
       "    }\n",
       "\n",
       "    .dataframe tbody tr th {\n",
       "        vertical-align: top;\n",
       "    }\n",
       "\n",
       "    .dataframe thead th {\n",
       "        text-align: right;\n",
       "    }\n",
       "</style>\n",
       "<table border=\"1\" class=\"dataframe\">\n",
       "  <thead>\n",
       "    <tr style=\"text-align: right;\">\n",
       "      <th></th>\n",
       "      <th>nan_ratio</th>\n",
       "    </tr>\n",
       "  </thead>\n",
       "  <tbody>\n",
       "    <tr>\n",
       "      <th>product_id</th>\n",
       "      <td>0.000000</td>\n",
       "    </tr>\n",
       "    <tr>\n",
       "      <th>product_title</th>\n",
       "      <td>0.000161</td>\n",
       "    </tr>\n",
       "    <tr>\n",
       "      <th>product_description</th>\n",
       "      <td>0.483731</td>\n",
       "    </tr>\n",
       "    <tr>\n",
       "      <th>product_bullet_point</th>\n",
       "      <td>0.167691</td>\n",
       "    </tr>\n",
       "    <tr>\n",
       "      <th>product_brand</th>\n",
       "      <td>0.078772</td>\n",
       "    </tr>\n",
       "    <tr>\n",
       "      <th>product_color_name</th>\n",
       "      <td>0.380818</td>\n",
       "    </tr>\n",
       "    <tr>\n",
       "      <th>product_locale</th>\n",
       "      <td>0.000000</td>\n",
       "    </tr>\n",
       "  </tbody>\n",
       "</table>\n",
       "</div>"
      ],
      "text/plain": [
       "                      nan_ratio\n",
       "product_id             0.000000\n",
       "product_title          0.000161\n",
       "product_description    0.483731\n",
       "product_bullet_point   0.167691\n",
       "product_brand          0.078772\n",
       "product_color_name     0.380818\n",
       "product_locale         0.000000"
      ]
     },
     "execution_count": 25,
     "metadata": {},
     "output_type": "execute_result"
    }
   ],
   "source": [
    "# 결측치 비율\n",
    "pd.DataFrame(data=product_df.isnull().sum() /\n",
    "             len(product_df), columns=['nan_ratio'])\n"
   ]
  },
  {
   "cell_type": "code",
   "execution_count": null,
   "metadata": {},
   "outputs": [
    {
     "data": {
      "text/plain": [
       "product_id              object\n",
       "product_title           object\n",
       "product_description     object\n",
       "product_bullet_point    object\n",
       "product_brand           object\n",
       "product_color_name      object\n",
       "product_locale          object\n",
       "dtype: object"
      ]
     },
     "execution_count": 26,
     "metadata": {},
     "output_type": "execute_result"
    }
   ],
   "source": [
    "# 데이터 타입\n",
    "product_df.dtypes\n"
   ]
  },
  {
   "cell_type": "markdown",
   "metadata": {},
   "source": [
    "### 데이터 샘플 확인"
   ]
  },
  {
   "cell_type": "code",
   "execution_count": null,
   "metadata": {},
   "outputs": [
    {
     "data": {
      "text/plain": [
       "コン (002)                               1\n",
       "Antimanchas Essence Gris Perla         1\n",
       "Curved Spoonula                        1\n",
       "Black Cap & Body                       1\n",
       "White Thread                           1\n",
       "                                   ...  \n",
       "Negro                              23249\n",
       "Blue                               23391\n",
       "ブラック                               23894\n",
       "White                              56619\n",
       "Black                             128344\n",
       "Name: product_color_name, Length: 253187, dtype: int64"
      ]
     },
     "execution_count": 27,
     "metadata": {},
     "output_type": "execute_result"
    }
   ],
   "source": [
    "product_df[\"product_color_name\"].value_counts().sort_values()\n"
   ]
  },
  {
   "cell_type": "code",
   "execution_count": 26,
   "metadata": {},
   "outputs": [
    {
     "data": {
      "text/plain": [
       "Nike                 6160\n",
       "adidas               5842\n",
       "ノーブランド品              5415\n",
       "Amazon Essentials    4657\n",
       "Under Armour         3431\n",
       "                     ... \n",
       "Detigsia                1\n",
       "Zeng Qiong              1\n",
       "Heemburg                1\n",
       "SYEA                    1\n",
       "FUMUM                   1\n",
       "Name: product_brand, Length: 305167, dtype: int64"
      ]
     },
     "execution_count": 26,
     "metadata": {},
     "output_type": "execute_result"
    }
   ],
   "source": [
    "product_df[\"product_brand\"].value_counts()\n"
   ]
  },
  {
   "cell_type": "code",
   "execution_count": null,
   "metadata": {},
   "outputs": [],
   "source": []
  },
  {
   "cell_type": "markdown",
   "metadata": {},
   "source": [
    "#### product_description 길이 확인\n",
    "\n",
    "- 일본어의 경우에는 단어별로 자르기 어려워 영어와 스페인어만 확인\n",
    "- 영어의 경우에 가장 긴 문장의 길이가 5216 (1개 example)\n",
    "- 스페인어의 경우 가장 긴 문장의 길이가 668"
   ]
  },
  {
   "cell_type": "code",
   "execution_count": 64,
   "metadata": {},
   "outputs": [],
   "source": [
    "product_descriptions = product_df.loc[product_df[\"product_locale\"] != \"jp\", [\"product_description\", \"product_locale\"]].dropna()\n",
    "product_descriptions[\"product_description\"] = product_descriptions[\"product_description\"].apply(lambda x: len(str(x).split()))\n"
   ]
  },
  {
   "cell_type": "code",
   "execution_count": 69,
   "metadata": {},
   "outputs": [
    {
     "data": {
      "text/plain": [
       "product_description  product_locale\n",
       "7                    es                668\n",
       "8                    es                643\n",
       "9                    es                614\n",
       "14                   es                589\n",
       "15                   es                586\n",
       "                                      ... \n",
       "524                  es                  1\n",
       "526                  es                  1\n",
       "530                  es                  1\n",
       "532                  es                  1\n",
       "1030                 es                  1\n",
       "Length: 545, dtype: int64"
      ]
     },
     "metadata": {},
     "output_type": "display_data"
    },
    {
     "data": {
      "text/plain": [
       "product_description  product_locale\n",
       "1                    us                5216\n",
       "11                   us                4039\n",
       "12                   us                3976\n",
       "9                    us                3932\n",
       "3                    us                3836\n",
       "                                       ... \n",
       "632                  us                   1\n",
       "637                  us                   1\n",
       "638                  us                   1\n",
       "644                  us                   1\n",
       "859                  us                   1\n",
       "Length: 657, dtype: int64"
      ]
     },
     "metadata": {},
     "output_type": "display_data"
    }
   ],
   "source": [
    "grouped = product_descriptions.groupby(\"product_locale\")\n",
    "display(grouped.get_group(\"es\").value_counts())\n",
    "display(grouped.get_group(\"us\").value_counts())"
   ]
  }
 ],
 "metadata": {
  "interpreter": {
   "hash": "f34a23f24821a0619ed5ec10cd92af1c92c0429d653e7fcd6eb55689dc191096"
  },
  "kernelspec": {
   "display_name": "Python 3.8.13 ('py38-torch')",
   "language": "python",
   "name": "python3"
  },
  "language_info": {
   "codemirror_mode": {
    "name": "ipython",
    "version": 3
   },
   "file_extension": ".py",
   "mimetype": "text/x-python",
   "name": "python",
   "nbconvert_exporter": "python",
   "pygments_lexer": "ipython3",
   "version": "3.8.13"
  },
  "orig_nbformat": 4
 },
 "nbformat": 4,
 "nbformat_minor": 2
}
